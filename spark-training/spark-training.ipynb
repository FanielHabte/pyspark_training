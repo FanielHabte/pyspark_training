{
 "cells": [
  {
   "cell_type": "code",
   "execution_count": null,
   "id": "016278e1",
   "metadata": {},
   "outputs": [],
   "source": [
    "from pyspark.sql import SparkSession\n",
    "from pyspark.sql.functions import *\n",
    "\n",
    "spark = SparkSession.builder.getOrCreate()"
   ]
  },
  {
   "cell_type": "code",
   "execution_count": 9,
   "id": "b38f097a",
   "metadata": {},
   "outputs": [
    {
     "name": "stderr",
     "output_type": "stream",
     "text": [
      "                                                                                \r"
     ]
    },
    {
     "data": {
      "text/plain": [
       "3022290"
      ]
     },
     "execution_count": 9,
     "metadata": {},
     "output_type": "execute_result"
    }
   ],
   "source": [
    "csv_path = \"data/e_commerce_data.csv\"\n",
    "csv = spark.read.csv(csv_path,inferSchema=True, header=True)\n",
    "\n",
    "\"\"\" sql to convert\n",
    "SELECT COUNT(DISTINCT user_id) AS distinct_users\n",
    "FROM ecommerce_data;\n",
    "\"\"\"\n",
    "\n",
    "csv.select('user_id').distinct().count()\n"
   ]
  },
  {
   "cell_type": "code",
   "execution_count": null,
   "id": "5f9bc397",
   "metadata": {},
   "outputs": [
    {
     "name": "stderr",
     "output_type": "stream",
     "text": [
      "                                                                                \r"
     ]
    },
    {
     "data": {
      "text/plain": [
       "347118"
      ]
     },
     "execution_count": 3,
     "metadata": {},
     "output_type": "execute_result"
    }
   ],
   "source": [
    "\"\"\" sql to convert\n",
    "SELECT COUNT(DISTINCT user_id) AS purchasing_users\n",
    "FROM ecommerce_data\n",
    "WHERE event_type = 'purchase';\n",
    "\"\"\"\n",
    "\n",
    "csv.filter(csv.event_type == \"purchase\").select(\"user_id\").distinct().count()"
   ]
  },
  {
   "cell_type": "code",
   "execution_count": 11,
   "id": "7ae2f041",
   "metadata": {},
   "outputs": [
    {
     "name": "stderr",
     "output_type": "stream",
     "text": [
      "[Stage 26:======================================================> (42 + 1) / 43]\r"
     ]
    },
    {
     "name": "stdout",
     "output_type": "stream",
     "text": [
      "+----------+----------+\n",
      "|product_id|view_count|\n",
      "+----------+----------+\n",
      "|   1004856|    419287|\n",
      "|   1004767|    378777|\n",
      "|   1005115|    327715|\n",
      "|   1004249|    207422|\n",
      "|   1004833|    203018|\n",
      "+----------+----------+\n",
      "\n"
     ]
    },
    {
     "name": "stderr",
     "output_type": "stream",
     "text": [
      "                                                                                \r"
     ]
    }
   ],
   "source": [
    "\"\"\" sql to convert\n",
    "SELECT product_id, COUNT(*) AS view_count\n",
    "FROM ecommerce_data\n",
    "WHERE event_type = 'view'\n",
    "GROUP BY product_id\n",
    "ORDER BY view_count DESC\n",
    "LIMIT 5;\n",
    "\"\"\"\n",
    "\n",
    "csv.filter(csv.event_type == \"view\").groupBy(csv.product_id).count().withColumnRenamed(\n",
    "    \"count\", \"view_count\"\n",
    ").sort(\"view_count\",ascending=False).limit(5).show()\n"
   ]
  },
  {
   "cell_type": "code",
   "execution_count": null,
   "id": "87d786ab",
   "metadata": {},
   "outputs": [
    {
     "name": "stdout",
     "output_type": "stream",
     "text": [
      "+--------------------+---------+------+\n",
      "|       category_code|purchased|viewed|\n",
      "+--------------------+---------+------+\n",
      "|                NULL|     view|  view|\n",
      "|appliances.enviro...|     view|  view|\n",
      "|furniture.living_...|     view|  view|\n",
      "|  computers.notebook|     view|  view|\n",
      "|electronics.smart...|     view|  view|\n",
      "|   computers.desktop|     view|  view|\n",
      "|                NULL|     view|  view|\n",
      "|                NULL|     view|  view|\n",
      "|  apparel.shoes.keds|     view|  view|\n",
      "|electronics.smart...|     view|  view|\n",
      "|appliances.kitche...|     view|  view|\n",
      "|electronics.smart...|     view|  view|\n",
      "|appliances.enviro...|     view|  view|\n",
      "|                NULL|     view|  view|\n",
      "|furniture.bedroom...|     view|  view|\n",
      "|                NULL|     view|  view|\n",
      "|electronics.video.tv|     view|  view|\n",
      "|appliances.kitche...|     view|  view|\n",
      "|  computers.notebook|     view|  view|\n",
      "|electronics.smart...|     view|  view|\n",
      "+--------------------+---------+------+\n",
      "only showing top 20 rows\n"
     ]
    }
   ],
   "source": [
    "\"\"\" sql to convert\n",
    "SELECT category_code,\n",
    "       COUNT(CASE WHEN event_type = 'purchase' THEN 1 END) * 1.0 / \n",
    "       COUNT(CASE WHEN event_type = 'view' THEN 1 END) AS conversion_rate\n",
    "FROM ecommerce_data\n",
    "GROUP BY category_code\n",
    "ORDER BY conversion_rate DESC;\n",
    "\"\"\"\n",
    "\n",
    "df = \\\n",
    "csv.select(\n",
    "    csv.category_code, csv.event_type.alias(\"purchased\"), csv.event_type.alias(\"viewed\")\n",
    ")\n",
    "\n"
   ]
  },
  {
   "cell_type": "code",
   "execution_count": null,
   "id": "7b5a388f",
   "metadata": {},
   "outputs": [],
   "source": [
    "\"\"\"\n",
    "SELECT user_session,\n",
    "       COUNT(DISTINCT CASE WHEN event_type = 'view' THEN product_id END) AS views,\n",
    "       COUNT(DISTINCT CASE WHEN event_type = 'cart' THEN product_id END) AS cart_adds,\n",
    "       COUNT(DISTINCT CASE WHEN event_type = 'purchase' THEN product_id END) AS purchases\n",
    "FROM ecommerce_data\n",
    "GROUP BY user_session;\n",
    "\"\"\""
   ]
  },
  {
   "cell_type": "code",
   "execution_count": null,
   "id": "1c6e96e3",
   "metadata": {},
   "outputs": [],
   "source": [
    "\"\"\"\n",
    "SELECT DATE(event_time) AS day,\n",
    "       COUNT(DISTINCT user_id) AS dau\n",
    "FROM ecommerce_data\n",
    "GROUP BY day\n",
    "ORDER BY day;\n",
    "\"\"\""
   ]
  },
  {
   "cell_type": "code",
   "execution_count": null,
   "id": "b6ef0122",
   "metadata": {},
   "outputs": [],
   "source": [
    "\"\"\"\n",
    "SELECT brand,\n",
    "       SUM(price) AS total_revenue\n",
    "FROM ecommerce_data\n",
    "WHERE event_type = 'purchase'\n",
    "GROUP BY brand\n",
    "ORDER BY total_revenue DESC\n",
    "LIMIT 10;\"\"\""
   ]
  },
  {
   "cell_type": "code",
   "execution_count": null,
   "id": "c19cc0cd",
   "metadata": {},
   "outputs": [],
   "source": [
    "\"\"\"\n",
    "WITH first_visit AS (\n",
    "  SELECT user_id, MIN(DATE(event_time)) AS first_day\n",
    "  FROM ecommerce_data\n",
    "  GROUP BY user_id\n",
    "),\n",
    "future_visits AS (\n",
    "  SELECT e.user_id, DATE(e.event_time) AS visit_day, f.first_day\n",
    "  FROM ecommerce_data e\n",
    "  JOIN first_visit f ON e.user_id = f.user_id\n",
    "  WHERE DATE(e.event_time) > f.first_day\n",
    ")\n",
    "SELECT COUNT(DISTINCT user_id) AS retained_users\n",
    "FROM future_visits\n",
    "WHERE DATEDIFF(visit_day, first_day) <= 7;\n",
    "\"\"\""
   ]
  },
  {
   "cell_type": "code",
   "execution_count": null,
   "id": "578773ea",
   "metadata": {},
   "outputs": [],
   "source": [
    "\"\"\" \n",
    "SELECT day,\n",
    "       SUM(daily_revenue) OVER (\n",
    "           ORDER BY day ROWS BETWEEN 6 PRECEDING AND CURRENT ROW\n",
    "       ) AS revenue_7_day_rolling\n",
    "FROM (\n",
    "  SELECT DATE(event_time) AS day,\n",
    "         SUM(price) AS daily_revenue\n",
    "  FROM ecommerce_data\n",
    "  WHERE event_type = 'purchase'\n",
    "  GROUP BY day\n",
    ") t;\n",
    "\"\"\""
   ]
  },
  {
   "cell_type": "code",
   "execution_count": null,
   "id": "74fd3c88",
   "metadata": {},
   "outputs": [],
   "source": [
    "\"\"\"\n",
    "SELECT *\n",
    "FROM (\n",
    "  SELECT category_code, product_id, COUNT(*) AS view_count,\n",
    "         RANK() OVER (PARTITION BY category_code ORDER BY COUNT(*) DESC) AS rank\n",
    "  FROM ecommerce_data\n",
    "  WHERE event_type = 'view'\n",
    "  GROUP BY category_code, product_id\n",
    ") t\n",
    "WHERE rank = 1;\n",
    "\n",
    "\"\"\""
   ]
  }
 ],
 "metadata": {
  "kernelspec": {
   "display_name": ".venv",
   "language": "python",
   "name": "python3"
  },
  "language_info": {
   "codemirror_mode": {
    "name": "ipython",
    "version": 3
   },
   "file_extension": ".py",
   "mimetype": "text/x-python",
   "name": "python",
   "nbconvert_exporter": "python",
   "pygments_lexer": "ipython3",
   "version": "3.12.3"
  }
 },
 "nbformat": 4,
 "nbformat_minor": 5
}
